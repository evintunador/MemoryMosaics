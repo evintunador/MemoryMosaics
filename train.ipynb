{
 "cells": [
  {
   "cell_type": "markdown",
   "id": "cb200416-d927-4302-b6b2-a0bfe159c321",
   "metadata": {},
   "source": [
    "# Setup"
   ]
  },
  {
   "cell_type": "code",
   "execution_count": 1,
   "id": "1f1ae964-36e4-4a3a-8109-306ce7cac387",
   "metadata": {},
   "outputs": [],
   "source": [
    "# my virtual environments are rarely properly connected to jupyter so this fixes that. \n",
    "# you prolly won't need this cell but running it won't hurt anything either\n",
    "import sys\n",
    "import os\n",
    "current_dir = os.getcwd()  # Get the current working directory\n",
    "venv_dir = os.path.join(current_dir, 'venv') \n",
    "python_version = str(sys.version_info.major) + '.' + str(sys.version_info.minor)\n",
    "site_packages_path = os.path.join(venv_dir, 'lib', 'python' + python_version, 'site-packages')\n",
    "sys.path.append(site_packages_path) "
   ]
  },
  {
   "cell_type": "markdown",
   "id": "426337be-2a22-41cb-8e46-494ed823c037",
   "metadata": {},
   "source": [
    "# Instantiate a brand new model"
   ]
  },
  {
   "cell_type": "code",
   "execution_count": 2,
   "id": "209f309f-df73-4183-9d1c-a4fb834e825e",
   "metadata": {},
   "outputs": [
    {
     "name": "stdout",
     "output_type": "stream",
     "text": [
      "ModelConfig(dim=128, device='mps', tokenizer='bpe_v1', vocab_len=8192, num_layers=4, second_resid_norm=False, num_heads=4, head_dim=32, max_seq_len=128, mm_bias=False, pmem_size=336, pmem_count=2, scale_first_resid=True, norm_type='RMSNorm', norm_affine=True, norm_bias=True, eps=1e-06) \n",
      "\n",
      " TrainConfig(weight_decay=0.05, batch_size=32, max_iters=100, eval_interval=1, eval_samples=1, checkpoint_interval=None, lr_init=1e-06, lr_max=0.1, lr_min=0.001, warmup_iters=1, final_flat_iters=10, anneal_type='cos', num_restarts=3, T_mult=2)\n",
      "\n",
      "2067.184K parameters\n",
      "\n",
      "Model(\n",
      "  (token_embedder): Embedding(8195, 128)\n",
      "  (layers): ModuleList(\n",
      "    (0-3): 4 x Layer(\n",
      "      (pre_context_norm): Norm()\n",
      "      (context): ContextMem(\n",
      "        (k_featurizer): KeyFeatureExtractor(\n",
      "          (W_k): Linear(in_features=128, out_features=128, bias=False)\n",
      "          (leaky_avg): LeakyAvg()\n",
      "        )\n",
      "        (v_featurizer): ValFeatureExtractor(\n",
      "          (W_v): Linear(in_features=128, out_features=128, bias=False)\n",
      "        )\n",
      "        (c_proj): Linear(in_features=128, out_features=128, bias=False)\n",
      "        (resid_dropout): Dropout(p=0.1, inplace=False)\n",
      "        (attn_dropout): Dropout(p=0.1, inplace=False)\n",
      "      )\n",
      "      (pre_persistent_norm): Norm()\n",
      "      (persistent): PersistentMem(\n",
      "        (k_featurizer): KeyFeatureExtractor(\n",
      "          (W_k): Linear(in_features=128, out_features=128, bias=False)\n",
      "          (leaky_avg): LeakyAvg()\n",
      "        )\n",
      "        (c_proj): Linear(in_features=128, out_features=128, bias=False)\n",
      "        (resid_dropout): Dropout(p=0.1, inplace=False)\n",
      "        (attn_dropout): Dropout(p=0.1, inplace=False)\n",
      "      )\n",
      "    )\n",
      "  )\n",
      "  (final_norm): Norm()\n",
      "  (criterion): CrossEntropyLoss()\n",
      ")\n"
     ]
    }
   ],
   "source": [
    "# config file\n",
    "from config import ModelConfig, TrainConfig\n",
    "cfg = ModelConfig()\n",
    "tcfg = TrainConfig()\n",
    "print(cfg, '\\n\\n', tcfg)\n",
    "\n",
    "# import the tokenizer specified by cfg\n",
    "from tools import import_from_nested_path\n",
    "imported_objects = import_from_nested_path(['tokenizers', cfg.tokenizer], 'tokenizer', ['get_tokenizer'])\n",
    "get_tokenizer = imported_objects.get('get_tokenizer')\n",
    "tokenizer = get_tokenizer(size = cfg.vocab_len)\n",
    "\n",
    "# model modules\n",
    "from modules.model import Model\n",
    "model = Model(cfg).to(cfg.device)\n",
    "\n",
    "# print the number of parameters in the model\n",
    "print(f'\\n{sum(p.numel() for p in model.parameters())/1e3}K parameters\\n')\n",
    "print(model)"
   ]
  },
  {
   "cell_type": "markdown",
   "id": "3287e188-9a0d-47da-9d61-8885b29ba25d",
   "metadata": {},
   "source": [
    "# Training"
   ]
  },
  {
   "cell_type": "code",
   "execution_count": 3,
   "id": "e6926710-6418-47c1-ba9f-ac9d63c092d0",
   "metadata": {},
   "outputs": [
    {
     "name": "stderr",
     "output_type": "stream",
     "text": [
      "Found cached dataset json (/Users/tunadorable/.cache/huggingface/datasets/noanabeshima___json/noanabeshima--TinyStoriesV2-226173b7dd235c68/0.0.0/e347ab1c932092252e717ff3f949105a4dd28b27e842dd53157d2f72e276c2e4)\n",
      "Found cached dataset json (/Users/tunadorable/.cache/huggingface/datasets/noanabeshima___json/noanabeshima--TinyStoriesV2-226173b7dd235c68/0.0.0/e347ab1c932092252e717ff3f949105a4dd28b27e842dd53157d2f72e276c2e4)\n"
     ]
    }
   ],
   "source": [
    "import torch\n",
    "from tools import get_data_loader\n",
    "from train import scheduler_lambda, train\n",
    "\n",
    "optimizer = torch.optim.AdamW(model.parameters(), lr = tcfg.lr_max, weight_decay = tcfg.weight_decay)\n",
    "scheduler = torch.optim.lr_scheduler.LambdaLR(optimizer, lr_lambda=scheduler_lambda)\n",
    "\n",
    "train_data_loader = get_data_loader(batch_size=tcfg.batch_size, split='train')\n",
    "test_data_loader = get_data_loader(batch_size=tcfg.batch_size, split='validation')"
   ]
  },
  {
   "cell_type": "code",
   "execution_count": 4,
   "id": "a85b7902-ee37-4963-b263-f28e72ecaf32",
   "metadata": {},
   "outputs": [],
   "source": [
    "if False: # set to true if you'd like to see a graph of the learning rate schedule\n",
    "    import matplotlib.pyplot as plt\n",
    "    \n",
    "    # Generate learning rate values\n",
    "    lrs = [scheduler_lambda(i) for i in range(tcfg.max_iters)]\n",
    "    \n",
    "    # Plot the learning rates\n",
    "    plt.figure(figsize=(10, 5))\n",
    "    plt.plot(lrs, label='Learning Rate')\n",
    "    plt.title('Learning Rate Schedule')\n",
    "    plt.xlabel('Iteration')\n",
    "    plt.ylabel('Learning Rate')\n",
    "    plt.grid(True)\n",
    "    plt.legend()\n",
    "    plt.show()"
   ]
  },
  {
   "cell_type": "code",
   "execution_count": 5,
   "id": "32c471d7-d40a-48b9-ac3f-82371e85c24c",
   "metadata": {},
   "outputs": [
    {
     "name": "stderr",
     "output_type": "stream",
     "text": [
      "  0%|                                | 0/100 [00:00<?, ?it/s]/Users/tunadorable/anaconda3/lib/python3.11/site-packages/torch/autograd/__init__.py:251: UserWarning: The operator 'aten::sgn.out' is not currently supported on the MPS backend and will fall back to run on the CPU. This may have performance implications. (Triggered internally at /Users/runner/work/pytorch/pytorch/pytorch/aten/src/ATen/mps/MPSFallback.mm:13.)\n",
      "  Variable._execution_engine.run_backward(  # Calls into the C++ engine to run the backward pass\n",
      "  1%|▏                       | 1/100 [00:01<02:56,  1.78s/it]"
     ]
    },
    {
     "name": "stdout",
     "output_type": "stream",
     "text": [
      "step 0000: lr 0.000000, train loss 126.8932, val loss 126.4831, ppl inf, time elapsed: 1.45 seconds\n"
     ]
    },
    {
     "name": "stderr",
     "output_type": "stream",
     "text": [
      "  2%|▍                       | 2/100 [00:02<01:58,  1.20s/it]"
     ]
    },
    {
     "name": "stdout",
     "output_type": "stream",
     "text": [
      "step 0001: lr 0.010000, train loss 122.7961, val loss 122.5900, ppl inf, time elapsed: 2.27 seconds\n"
     ]
    },
    {
     "name": "stderr",
     "output_type": "stream",
     "text": [
      "  3%|▋                       | 3/100 [00:03<01:39,  1.02s/it]"
     ]
    },
    {
     "name": "stdout",
     "output_type": "stream",
     "text": [
      "step 0002: lr 0.009322, train loss 119.0985, val loss 118.6497, ppl inf, time elapsed: 3.08 seconds\n"
     ]
    },
    {
     "name": "stderr",
     "output_type": "stream",
     "text": [
      "  4%|▉                       | 4/100 [00:04<01:30,  1.06it/s]"
     ]
    },
    {
     "name": "stdout",
     "output_type": "stream",
     "text": [
      "step 0003: lr 0.007474, train loss 115.7737, val loss 114.8903, ppl inf, time elapsed: 3.88 seconds\n"
     ]
    },
    {
     "name": "stderr",
     "output_type": "stream",
     "text": [
      "  5%|█▏                      | 5/100 [00:05<01:25,  1.12it/s]"
     ]
    },
    {
     "name": "stdout",
     "output_type": "stream",
     "text": [
      "step 0004: lr 0.004963, train loss 112.5038, val loss 113.0391, ppl inf, time elapsed: 4.70 seconds\n"
     ]
    },
    {
     "name": "stderr",
     "output_type": "stream",
     "text": [
      "  6%|█▍                      | 6/100 [00:05<01:21,  1.16it/s]"
     ]
    },
    {
     "name": "stdout",
     "output_type": "stream",
     "text": [
      "step 0005: lr 0.002475, train loss 111.4729, val loss 110.9884, ppl inf, time elapsed: 5.51 seconds\n"
     ]
    },
    {
     "name": "stderr",
     "output_type": "stream",
     "text": [
      "  7%|█▋                      | 7/100 [00:06<01:21,  1.14it/s]"
     ]
    },
    {
     "name": "stdout",
     "output_type": "stream",
     "text": [
      "step 0006: lr 0.000692, train loss 110.9977, val loss 110.5159, ppl inf, time elapsed: 6.36 seconds\n"
     ]
    },
    {
     "name": "stderr",
     "output_type": "stream",
     "text": [
      "  8%|█▉                      | 8/100 [00:07<01:26,  1.06it/s]"
     ]
    },
    {
     "name": "stdout",
     "output_type": "stream",
     "text": [
      "step 0007: lr 0.009999, train loss 102.5335, val loss 101.8255, ppl inf, time elapsed: 7.44 seconds\n"
     ]
    },
    {
     "name": "stderr",
     "output_type": "stream",
     "text": [
      "  9%|██▏                     | 9/100 [00:08<01:27,  1.04it/s]"
     ]
    },
    {
     "name": "stdout",
     "output_type": "stream",
     "text": [
      "step 0008: lr 0.009804, train loss 93.3865, val loss 92.8597, ppl inf, time elapsed: 8.48 seconds\n"
     ]
    },
    {
     "name": "stderr",
     "output_type": "stream",
     "text": [
      " 10%|██▎                    | 10/100 [00:09<01:27,  1.03it/s]"
     ]
    },
    {
     "name": "stdout",
     "output_type": "stream",
     "text": [
      "step 0009: lr 0.009277, train loss 83.0495, val loss 83.9436, ppl 2859238853227330943653326567084392448, time elapsed: 9.48 seconds\n"
     ]
    },
    {
     "name": "stderr",
     "output_type": "stream",
     "text": [
      " 11%|██▌                    | 11/100 [00:10<01:30,  1.01s/it]"
     ]
    },
    {
     "name": "stdout",
     "output_type": "stream",
     "text": [
      "step 0010: lr 0.008456, train loss 73.3327, val loss 73.4167, ppl 76641157974354600330006710190080, time elapsed: 10.47 seconds\n"
     ]
    },
    {
     "name": "stderr",
     "output_type": "stream",
     "text": [
      " 12%|██▊                    | 12/100 [00:12<01:46,  1.21s/it]"
     ]
    },
    {
     "name": "stdout",
     "output_type": "stream",
     "text": [
      "step 0011: lr 0.007398, train loss 64.8192, val loss 64.7995, ppl 13869847729161464388289298432, time elapsed: 12.11 seconds\n"
     ]
    },
    {
     "name": "stderr",
     "output_type": "stream",
     "text": [
      " 13%|██▉                    | 13/100 [00:13<01:41,  1.17s/it]"
     ]
    },
    {
     "name": "stdout",
     "output_type": "stream",
     "text": [
      "step 0012: lr 0.006176, train loss 58.6375, val loss 58.7319, ppl 32132026096328239837347840, time elapsed: 13.31 seconds\n"
     ]
    },
    {
     "name": "stderr",
     "output_type": "stream",
     "text": [
      " 14%|███▏                   | 14/100 [00:14<01:37,  1.13s/it]"
     ]
    },
    {
     "name": "stdout",
     "output_type": "stream",
     "text": [
      "step 0013: lr 0.004875, train loss 55.0867, val loss 55.0899, ppl 841847429993231317729280, time elapsed: 14.34 seconds\n"
     ]
    },
    {
     "name": "stderr",
     "output_type": "stream",
     "text": [
      " 15%|███▍                   | 15/100 [00:15<01:34,  1.12s/it]"
     ]
    },
    {
     "name": "stdout",
     "output_type": "stream",
     "text": [
      "step 0014: lr 0.003587, train loss 54.0578, val loss 53.9384, ppl 266164179129477072158720, time elapsed: 15.43 seconds\n"
     ]
    },
    {
     "name": "stderr",
     "output_type": "stream",
     "text": [
      " 16%|███▋                   | 16/100 [00:16<01:32,  1.11s/it]"
     ]
    },
    {
     "name": "stdout",
     "output_type": "stream",
     "text": [
      "step 0015: lr 0.002401, train loss 53.2725, val loss 52.9111, ppl 95278838263793573691392, time elapsed: 16.53 seconds\n"
     ]
    },
    {
     "name": "stderr",
     "output_type": "stream",
     "text": [
      " 17%|███▉                   | 17/100 [00:17<01:28,  1.07s/it]"
     ]
    },
    {
     "name": "stdout",
     "output_type": "stream",
     "text": [
      "step 0016: lr 0.001399, train loss 52.6860, val loss 52.6941, ppl 76692275436052677656576, time elapsed: 17.51 seconds\n"
     ]
    },
    {
     "name": "stderr",
     "output_type": "stream",
     "text": [
      " 18%|████▏                  | 18/100 [00:18<01:26,  1.06s/it]"
     ]
    },
    {
     "name": "stdout",
     "output_type": "stream",
     "text": [
      "step 0017: lr 0.000651, train loss 52.2787, val loss 52.6341, ppl 72224038072956294791168, time elapsed: 18.54 seconds\n"
     ]
    },
    {
     "name": "stderr",
     "output_type": "stream",
     "text": [
      " 19%|████▎                  | 19/100 [00:19<01:24,  1.05s/it]"
     ]
    },
    {
     "name": "stdout",
     "output_type": "stream",
     "text": [
      "step 0018: lr 0.000211, train loss 52.1697, val loss 51.9371, ppl 35974166103684150198272, time elapsed: 19.56 seconds\n"
     ]
    },
    {
     "name": "stderr",
     "output_type": "stream",
     "text": [
      " 20%|████▌                  | 20/100 [00:21<01:25,  1.07s/it]"
     ]
    },
    {
     "name": "stdout",
     "output_type": "stream",
     "text": [
      "step 0019: lr 0.009998, train loss 48.8778, val loss 48.5807, ppl 1254069537487821209600, time elapsed: 20.70 seconds\n"
     ]
    },
    {
     "name": "stderr",
     "output_type": "stream",
     "text": [
      " 21%|████▊                  | 21/100 [00:22<01:22,  1.04s/it]"
     ]
    },
    {
     "name": "stdout",
     "output_type": "stream",
     "text": [
      "step 0020: lr 0.009938, train loss 44.8291, val loss 45.0295, ppl 35978914375435026432, time elapsed: 21.69 seconds\n"
     ]
    },
    {
     "name": "stderr",
     "output_type": "stream",
     "text": [
      " 22%|█████                  | 22/100 [00:22<01:19,  1.02s/it]"
     ]
    },
    {
     "name": "stdout",
     "output_type": "stream",
     "text": [
      "step 0021: lr 0.009792, train loss 40.7828, val loss 40.8488, ppl 550031035392327680, time elapsed: 22.63 seconds\n"
     ]
    },
    {
     "name": "stderr",
     "output_type": "stream",
     "text": [
      " 23%|█████▎                 | 23/100 [00:23<01:16,  1.01it/s]"
     ]
    },
    {
     "name": "stdout",
     "output_type": "stream",
     "text": [
      "step 0022: lr 0.009563, train loss 36.9452, val loss 36.7763, ppl 9369870588182528, time elapsed: 23.58 seconds\n"
     ]
    },
    {
     "name": "stderr",
     "output_type": "stream",
     "text": [
      " 24%|█████▌                 | 24/100 [00:24<01:14,  1.02it/s]"
     ]
    },
    {
     "name": "stdout",
     "output_type": "stream",
     "text": [
      "step 0023: lr 0.009255, train loss 32.6411, val loss 32.6947, ppl 158170475397120, time elapsed: 24.51 seconds\n"
     ]
    },
    {
     "name": "stderr",
     "output_type": "stream",
     "text": [
      " 25%|█████▊                 | 25/100 [00:25<01:15,  1.01s/it]"
     ]
    },
    {
     "name": "stdout",
     "output_type": "stream",
     "text": [
      "step 0024: lr 0.008873, train loss 29.0265, val loss 29.1850, ppl 4730115850240, time elapsed: 25.60 seconds\n"
     ]
    },
    {
     "name": "stderr",
     "output_type": "stream",
     "text": [
      " 26%|█████▉                 | 26/100 [00:26<01:12,  1.02it/s]"
     ]
    },
    {
     "name": "stdout",
     "output_type": "stream",
     "text": [
      "step 0025: lr 0.008424, train loss 25.5189, val loss 25.8396, ppl 166720454656, time elapsed: 26.53 seconds\n"
     ]
    },
    {
     "name": "stderr",
     "output_type": "stream",
     "text": [
      " 27%|██████▏                | 27/100 [00:27<01:11,  1.02it/s]"
     ]
    },
    {
     "name": "stdout",
     "output_type": "stream",
     "text": [
      "step 0026: lr 0.007917, train loss 23.3407, val loss 22.8709, ppl 8564744704, time elapsed: 27.50 seconds\n"
     ]
    },
    {
     "name": "stderr",
     "output_type": "stream",
     "text": [
      " 28%|██████▍                | 28/100 [00:28<01:10,  1.02it/s]"
     ]
    },
    {
     "name": "stdout",
     "output_type": "stream",
     "text": [
      "step 0027: lr 0.007359, train loss 20.5724, val loss 20.7875, ppl 1066389248, time elapsed: 28.46 seconds\n"
     ]
    },
    {
     "name": "stderr",
     "output_type": "stream",
     "text": [
      " 29%|██████▋                | 29/100 [00:29<01:11,  1.00s/it]"
     ]
    },
    {
     "name": "stdout",
     "output_type": "stream",
     "text": [
      "step 0028: lr 0.006761, train loss 19.0581, val loss 19.0913, ppl 195539760, time elapsed: 29.53 seconds\n"
     ]
    },
    {
     "name": "stderr",
     "output_type": "stream",
     "text": [
      " 30%|██████▉                | 30/100 [00:30<01:10,  1.01s/it]"
     ]
    },
    {
     "name": "stdout",
     "output_type": "stream",
     "text": [
      "step 0029: lr 0.006133, train loss 17.8579, val loss 17.9189, ppl 60546628, time elapsed: 30.54 seconds\n"
     ]
    },
    {
     "name": "stderr",
     "output_type": "stream",
     "text": [
      " 31%|███████▏               | 31/100 [00:31<01:09,  1.01s/it]"
     ]
    },
    {
     "name": "stdout",
     "output_type": "stream",
     "text": [
      "step 0030: lr 0.005486, train loss 16.9118, val loss 17.1066, ppl 26872990, time elapsed: 31.55 seconds\n"
     ]
    },
    {
     "name": "stderr",
     "output_type": "stream",
     "text": [
      " 32%|███████▎               | 32/100 [00:33<01:12,  1.06s/it]"
     ]
    },
    {
     "name": "stdout",
     "output_type": "stream",
     "text": [
      "step 0031: lr 0.004832, train loss 16.1411, val loss 16.4623, ppl 14108068, time elapsed: 32.68 seconds\n"
     ]
    },
    {
     "name": "stderr",
     "output_type": "stream",
     "text": [
      " 33%|███████▌               | 33/100 [00:34<01:12,  1.08s/it]"
     ]
    },
    {
     "name": "stdout",
     "output_type": "stream",
     "text": [
      "step 0032: lr 0.004181, train loss 15.8663, val loss 15.6894, ppl 6513406, time elapsed: 33.85 seconds\n"
     ]
    },
    {
     "name": "stderr",
     "output_type": "stream",
     "text": [
      " 34%|███████▊               | 34/100 [00:35<01:09,  1.05s/it]"
     ]
    },
    {
     "name": "stdout",
     "output_type": "stream",
     "text": [
      "step 0033: lr 0.003545, train loss 14.4945, val loss 14.8151, ppl 2717272, time elapsed: 34.84 seconds\n"
     ]
    },
    {
     "name": "stderr",
     "output_type": "stream",
     "text": [
      " 35%|████████               | 35/100 [00:36<01:10,  1.08s/it]"
     ]
    },
    {
     "name": "stdout",
     "output_type": "stream",
     "text": [
      "step 0034: lr 0.002936, train loss 14.5083, val loss 14.4243, ppl 1838242, time elapsed: 36.02 seconds\n"
     ]
    },
    {
     "name": "stderr",
     "output_type": "stream",
     "text": [
      " 36%|████████▎              | 36/100 [00:37<01:09,  1.08s/it]"
     ]
    },
    {
     "name": "stdout",
     "output_type": "stream",
     "text": [
      "step 0035: lr 0.002364, train loss 14.2519, val loss 13.9798, ppl 1178579, time elapsed: 37.09 seconds\n"
     ]
    },
    {
     "name": "stderr",
     "output_type": "stream",
     "text": [
      " 37%|████████▌              | 37/100 [00:38<01:06,  1.05s/it]"
     ]
    },
    {
     "name": "stdout",
     "output_type": "stream",
     "text": [
      "step 0036: lr 0.001839, train loss 13.8519, val loss 13.7623, ppl 948155, time elapsed: 38.06 seconds\n"
     ]
    },
    {
     "name": "stderr",
     "output_type": "stream",
     "text": [
      " 38%|████████▋              | 38/100 [00:39<01:04,  1.04s/it]"
     ]
    },
    {
     "name": "stdout",
     "output_type": "stream",
     "text": [
      "step 0037: lr 0.001369, train loss 13.5570, val loss 13.3443, ppl 624230, time elapsed: 39.07 seconds\n"
     ]
    },
    {
     "name": "stderr",
     "output_type": "stream",
     "text": [
      " 39%|████████▉              | 39/100 [00:40<01:03,  1.04s/it]"
     ]
    },
    {
     "name": "stdout",
     "output_type": "stream",
     "text": [
      "step 0038: lr 0.000965, train loss 13.3519, val loss 13.2148, ppl 548419, time elapsed: 40.07 seconds\n"
     ]
    },
    {
     "name": "stderr",
     "output_type": "stream",
     "text": [
      " 40%|█████████▏             | 40/100 [00:41<01:03,  1.06s/it]"
     ]
    },
    {
     "name": "stdout",
     "output_type": "stream",
     "text": [
      "step 0039: lr 0.000632, train loss 13.2083, val loss 12.9441, ppl 418354, time elapsed: 41.22 seconds\n"
     ]
    },
    {
     "name": "stderr",
     "output_type": "stream",
     "text": [
      " 41%|█████████▍             | 41/100 [00:42<01:01,  1.04s/it]"
     ]
    },
    {
     "name": "stdout",
     "output_type": "stream",
     "text": [
      "step 0040: lr 0.000376, train loss 13.1581, val loss 12.9883, ppl 437260, time elapsed: 42.21 seconds\n"
     ]
    },
    {
     "name": "stderr",
     "output_type": "stream",
     "text": [
      " 42%|█████████▋             | 42/100 [00:43<00:59,  1.03s/it]"
     ]
    },
    {
     "name": "stdout",
     "output_type": "stream",
     "text": [
      "step 0041: lr 0.000202, train loss 13.0446, val loss 13.2518, ppl 569081, time elapsed: 43.21 seconds\n"
     ]
    },
    {
     "name": "stderr",
     "output_type": "stream",
     "text": [
      " 43%|█████████▉             | 43/100 [00:44<00:57,  1.00s/it]"
     ]
    },
    {
     "name": "stdout",
     "output_type": "stream",
     "text": [
      "step 0042: lr 0.000112, train loss 13.0681, val loss 13.2403, ppl 562559, time elapsed: 44.14 seconds\n"
     ]
    },
    {
     "name": "stderr",
     "output_type": "stream",
     "text": [
      " 44%|██████████             | 44/100 [00:45<00:55,  1.01it/s]"
     ]
    },
    {
     "name": "stdout",
     "output_type": "stream",
     "text": [
      "step 0043: lr 0.009998, train loss 12.3136, val loss 12.0247, ppl 166821, time elapsed: 45.14 seconds\n"
     ]
    },
    {
     "name": "stderr",
     "output_type": "stream",
     "text": [
      " 44%|██████████             | 44/100 [00:46<00:58,  1.05s/it]\n"
     ]
    },
    {
     "ename": "KeyboardInterrupt",
     "evalue": "",
     "output_type": "error",
     "traceback": [
      "\u001b[0;31m---------------------------------------------------------------------------\u001b[0m",
      "\u001b[0;31mKeyboardInterrupt\u001b[0m                         Traceback (most recent call last)",
      "Cell \u001b[0;32mIn[5], line 1\u001b[0m\n\u001b[0;32m----> 1\u001b[0m model, optimizer, log_data \u001b[38;5;241m=\u001b[39m train(\n\u001b[1;32m      2\u001b[0m     model, \n\u001b[1;32m      3\u001b[0m     tokenizer, \n\u001b[1;32m      4\u001b[0m     cfg, \n\u001b[1;32m      5\u001b[0m     optimizer,\n\u001b[1;32m      6\u001b[0m     scheduler,\n\u001b[1;32m      7\u001b[0m     tcfg, \n\u001b[1;32m      8\u001b[0m     train_data_loader,\n\u001b[1;32m      9\u001b[0m     test_data_loader,\n\u001b[1;32m     10\u001b[0m     \u001b[38;5;66;03m#log_data: list = None, \u001b[39;00m\n\u001b[1;32m     11\u001b[0m     \u001b[38;5;66;03m#detect_anomoly = False # use if you're getting crazy errors about a the gradient being broken\u001b[39;00m\n\u001b[1;32m     12\u001b[0m )\n",
      "File \u001b[0;32m~/local-repos/micro-GPT-sandbox/models/MemoryMosaics/train.py:87\u001b[0m, in \u001b[0;36mtrain\u001b[0;34m(model, tokenizer, cfg, optimizer, scheduler, tcfg, train_data_loader, test_data_loader, log_data, detect_anomoly)\u001b[0m\n\u001b[1;32m     85\u001b[0m logits, loss \u001b[38;5;241m=\u001b[39m model(x, target_token_ids\u001b[38;5;241m=\u001b[39my)\n\u001b[1;32m     86\u001b[0m optimizer\u001b[38;5;241m.\u001b[39mzero_grad(set_to_none\u001b[38;5;241m=\u001b[39m\u001b[38;5;28;01mTrue\u001b[39;00m)\n\u001b[0;32m---> 87\u001b[0m loss\u001b[38;5;241m.\u001b[39mbackward() \u001b[38;5;66;03m# find the gradients\u001b[39;00m\n\u001b[1;32m     88\u001b[0m optimizer\u001b[38;5;241m.\u001b[39mstep() \u001b[38;5;66;03m# edit parameters\u001b[39;00m\n\u001b[1;32m     90\u001b[0m \u001b[38;5;66;03m# every once in a while evaluate the loss on train and val sets\u001b[39;00m\n",
      "File \u001b[0;32m~/anaconda3/lib/python3.11/site-packages/torch/_tensor.py:492\u001b[0m, in \u001b[0;36mTensor.backward\u001b[0;34m(self, gradient, retain_graph, create_graph, inputs)\u001b[0m\n\u001b[1;32m    482\u001b[0m \u001b[38;5;28;01mif\u001b[39;00m has_torch_function_unary(\u001b[38;5;28mself\u001b[39m):\n\u001b[1;32m    483\u001b[0m     \u001b[38;5;28;01mreturn\u001b[39;00m handle_torch_function(\n\u001b[1;32m    484\u001b[0m         Tensor\u001b[38;5;241m.\u001b[39mbackward,\n\u001b[1;32m    485\u001b[0m         (\u001b[38;5;28mself\u001b[39m,),\n\u001b[0;32m   (...)\u001b[0m\n\u001b[1;32m    490\u001b[0m         inputs\u001b[38;5;241m=\u001b[39minputs,\n\u001b[1;32m    491\u001b[0m     )\n\u001b[0;32m--> 492\u001b[0m torch\u001b[38;5;241m.\u001b[39mautograd\u001b[38;5;241m.\u001b[39mbackward(\n\u001b[1;32m    493\u001b[0m     \u001b[38;5;28mself\u001b[39m, gradient, retain_graph, create_graph, inputs\u001b[38;5;241m=\u001b[39minputs\n\u001b[1;32m    494\u001b[0m )\n",
      "File \u001b[0;32m~/anaconda3/lib/python3.11/site-packages/torch/autograd/__init__.py:251\u001b[0m, in \u001b[0;36mbackward\u001b[0;34m(tensors, grad_tensors, retain_graph, create_graph, grad_variables, inputs)\u001b[0m\n\u001b[1;32m    246\u001b[0m     retain_graph \u001b[38;5;241m=\u001b[39m create_graph\n\u001b[1;32m    248\u001b[0m \u001b[38;5;66;03m# The reason we repeat the same comment below is that\u001b[39;00m\n\u001b[1;32m    249\u001b[0m \u001b[38;5;66;03m# some Python versions print out the first line of a multi-line function\u001b[39;00m\n\u001b[1;32m    250\u001b[0m \u001b[38;5;66;03m# calls in the traceback and some print out the last line\u001b[39;00m\n\u001b[0;32m--> 251\u001b[0m Variable\u001b[38;5;241m.\u001b[39m_execution_engine\u001b[38;5;241m.\u001b[39mrun_backward(  \u001b[38;5;66;03m# Calls into the C++ engine to run the backward pass\u001b[39;00m\n\u001b[1;32m    252\u001b[0m     tensors,\n\u001b[1;32m    253\u001b[0m     grad_tensors_,\n\u001b[1;32m    254\u001b[0m     retain_graph,\n\u001b[1;32m    255\u001b[0m     create_graph,\n\u001b[1;32m    256\u001b[0m     inputs,\n\u001b[1;32m    257\u001b[0m     allow_unreachable\u001b[38;5;241m=\u001b[39m\u001b[38;5;28;01mTrue\u001b[39;00m,\n\u001b[1;32m    258\u001b[0m     accumulate_grad\u001b[38;5;241m=\u001b[39m\u001b[38;5;28;01mTrue\u001b[39;00m,\n\u001b[1;32m    259\u001b[0m )\n",
      "\u001b[0;31mKeyboardInterrupt\u001b[0m: "
     ]
    }
   ],
   "source": [
    "model, optimizer, log_data = train(\n",
    "    model, \n",
    "    tokenizer, \n",
    "    cfg, \n",
    "    optimizer,\n",
    "    scheduler,\n",
    "    tcfg, \n",
    "    train_data_loader,\n",
    "    test_data_loader,\n",
    "    #log_data: list = None, \n",
    "    #detect_anomoly = False # use if you're getting crazy errors about a the gradient being broken\n",
    ")"
   ]
  },
  {
   "cell_type": "markdown",
   "id": "22cc1adb-a1fd-4f0e-8666-26b2a99a0e54",
   "metadata": {},
   "source": [
    "# inference test before you decide to save it"
   ]
  },
  {
   "cell_type": "code",
   "execution_count": 7,
   "id": "565eeefb-ce04-44c5-a0b7-81a1a75786c6",
   "metadata": {},
   "outputs": [
    {
     "name": "stdout",
     "output_type": "stream",
     "text": [
      "Once upon a timerelaxedJufencetoldCraBrookefinishjuicywedSinationbalancingzippingsuggestedsettingponiesbeautiinsistedyummiestundersufferingtrafficabyscoopidsJuliasplashingspacesrarefinalvaluableippdivefallendancersdiscoveredalrightcloudsrollCawoolkidspolishesscenouredapolotrunkstraofferadultsAbbieinfantshockedwichscoocompasstootellangryapologibrushesDoggy'sfoldeddarBujoggingKatexactlyGuardianhighllCharlotreturneddays: holesopeningexpercircusOnexttimeinvlonelyThencrumbelfchTwinkleaskedtowncubsscarvesiansetestedsecup, bossyaidwebteamshortwelcomlotionscallslawcrackershelperardenungstarsJaneDanthanksudgedtrafficburnt\n"
     ]
    }
   ],
   "source": [
    "from inference import generate\n",
    "prompt = \"Once upon a time\"\n",
    "model.eval()\n",
    "output = generate(\n",
    "    prompt, \n",
    "    model, \n",
    "    tokenizer,\n",
    "    #max_gen_len = 512,\n",
    "    temperature = 0.9,\n",
    "    #memory_saver_div = 8,\n",
    "    #top_p = 0.9,\n",
    "    #top_k = 32,\n",
    ")\n",
    "model.train()\n",
    "print(output)"
   ]
  },
  {
   "cell_type": "markdown",
   "id": "70cf4ecb-0313-43a2-a35b-1f6c6e348427",
   "metadata": {},
   "source": [
    "# Saving your final model\n",
    "if `tcfg.checkpoint_interval != None` then checkpoints have already been saved\n",
    "\n",
    "you DO still need to do this even if you had been saving checkpoints; the final state has not yet been saved"
   ]
  },
  {
   "cell_type": "code",
   "execution_count": 8,
   "id": "d1c31388-e8b5-48c6-b057-e185586b0671",
   "metadata": {},
   "outputs": [
    {
     "ename": "NameError",
     "evalue": "name 'log_data' is not defined",
     "output_type": "error",
     "traceback": [
      "\u001b[0;31m---------------------------------------------------------------------------\u001b[0m",
      "\u001b[0;31mNameError\u001b[0m                                 Traceback (most recent call last)",
      "Cell \u001b[0;32mIn[8], line 2\u001b[0m\n\u001b[1;32m      1\u001b[0m \u001b[38;5;28;01mfrom\u001b[39;00m \u001b[38;5;21;01mtools\u001b[39;00m \u001b[38;5;28;01mimport\u001b[39;00m save_model\n\u001b[0;32m----> 2\u001b[0m save_model(model, cfg, tcfg, log_data)\n",
      "\u001b[0;31mNameError\u001b[0m: name 'log_data' is not defined"
     ]
    }
   ],
   "source": [
    "from tools import save_model\n",
    "save_model(model, cfg, tcfg, log_data)"
   ]
  },
  {
   "cell_type": "code",
   "execution_count": null,
   "id": "303e3a1e-85cb-4fe6-a85b-1d3ec773eb0d",
   "metadata": {},
   "outputs": [],
   "source": []
  }
 ],
 "metadata": {
  "kernelspec": {
   "display_name": "Python 3 (ipykernel)",
   "language": "python",
   "name": "python3"
  },
  "language_info": {
   "codemirror_mode": {
    "name": "ipython",
    "version": 3
   },
   "file_extension": ".py",
   "mimetype": "text/x-python",
   "name": "python",
   "nbconvert_exporter": "python",
   "pygments_lexer": "ipython3",
   "version": "3.11.5"
  }
 },
 "nbformat": 4,
 "nbformat_minor": 5
}
